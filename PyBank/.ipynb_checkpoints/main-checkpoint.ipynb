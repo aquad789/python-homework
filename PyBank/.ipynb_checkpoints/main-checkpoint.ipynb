{
 "cells": [
  {
   "cell_type": "code",
   "execution_count": 60,
   "id": "d080ddd2-404a-4086-93b6-56beeae2265b",
   "metadata": {},
   "outputs": [],
   "source": [
    "#  Your task is to create a Python script that analyzes the records to calculate each of the following:\n",
    "\n",
    "\n",
    "#  The total number of months included in the dataset.\n",
    "\n",
    "\n",
    "#  The net total amount of Profit/Losses over the entire period.\n",
    "\n",
    "\n",
    "#  The average of the changes in Profit/Losses over the entire period.\n",
    "\n",
    "\n",
    "#  The greatest increase in profits (date and amount) over the entire period.\n",
    "\n",
    "\n",
    "#  The greatest decrease in losses (date and amount) over the entire period.\n",
    "\n",
    "\n",
    "#  Your resulting analysis should look similar to the following:\n",
    "\n",
    "#* Financial Analysis\n",
    "#* ----------------------------\n",
    "#* Total Months: 86\n",
    "#* Total: $38382578\n",
    "#* Average  Change: $-2315.12\n",
    "#* Greatest Increase in Profits: Feb-2012 ($1926159)\n",
    "#* Greatest Decrease in Profits: Sep-2013 ($-2196167)"
   ]
  },
  {
   "cell_type": "code",
   "execution_count": 103,
   "id": "511b2f20-5cf5-4d25-9487-e35be5c2344a",
   "metadata": {},
   "outputs": [
    {
     "name": "stdout",
     "output_type": "stream",
     "text": [
      "Financial Analysis\n",
      "----------------------------------------------------------------\n",
      "Unique count of Total Months: 86\n",
      "NeT Total Profit & Loss: 38382578\n",
      "Average Change: -2315.1176470588234\n",
      "Greatest Increase in Profits: Feb-2012  1926159.0\n",
      "Greatest Decrease in Profits: Sep-2013  -2196167.0\n"
     ]
    }
   ],
   "source": [
    "import pandas as pd\n",
    "from pathlib import Path\n",
    "\n",
    "csv_path = Path(\"/Users/adnanquaderi/Desktop/python-homework/PyBank/budget_data.csv\")\n",
    "df = pd.read_csv(csv_path)\n",
    "\n",
    "df['PrevMonth']=df['Profit/Losses'].shift(periods=1)\n",
    "df['PnLChg'] = df['Profit/Losses'] - df['PrevMonth'] \n",
    "\n",
    "\n",
    "PnL = df['Profit/Losses'].sum()\n",
    "Months = df['Date'].nunique()\n",
    "\n",
    "\n",
    "MaxIncrease = df['PnLChg'].max()\n",
    "MaxDate = df.loc[df.PnLChg == MaxIncrease, 'Date'].values[0]\n",
    "\n",
    "\n",
    "MaxDecrease = df['PnLChg'].min()\n",
    "MinDate = df.loc[df.PnLChg == MaxDecrease, 'Date'].values[0]\n",
    "\n",
    "AvgChg = df['PnLChg'].mean()\n",
    "\n",
    "print(f\"Financial Analysis\")\n",
    "print(f\"----------------------------------------------------------------\")\n",
    "print (f\"Unique count of Total Months: {Months}\")\n",
    "print(f\"NeT Total Profit & Loss: {PnL}\")\n",
    "print(f\"Average Change: {AvgChg}\")\n",
    "print(f\"Greatest Increase in Profits: {MaxDate}  {MaxIncrease}\")\n",
    "print(f\"Greatest Decrease in Profits: {MinDate}  {MaxDecrease}\")"
   ]
  },
  {
   "cell_type": "code",
   "execution_count": 89,
   "id": "d23f9764-b9ea-428c-9e6d-dc17b91d7c19",
   "metadata": {},
   "outputs": [
    {
     "data": {
      "text/html": [
       "<div>\n",
       "<style scoped>\n",
       "    .dataframe tbody tr th:only-of-type {\n",
       "        vertical-align: middle;\n",
       "    }\n",
       "\n",
       "    .dataframe tbody tr th {\n",
       "        vertical-align: top;\n",
       "    }\n",
       "\n",
       "    .dataframe thead th {\n",
       "        text-align: right;\n",
       "    }\n",
       "</style>\n",
       "<table border=\"1\" class=\"dataframe\">\n",
       "  <thead>\n",
       "    <tr style=\"text-align: right;\">\n",
       "      <th></th>\n",
       "      <th>Date</th>\n",
       "      <th>Profit/Losses</th>\n",
       "      <th>PrevMonth</th>\n",
       "      <th>PnLChg</th>\n",
       "    </tr>\n",
       "  </thead>\n",
       "  <tbody>\n",
       "    <tr>\n",
       "      <th>0</th>\n",
       "      <td>Jan-2010</td>\n",
       "      <td>867884</td>\n",
       "      <td>NaN</td>\n",
       "      <td>NaN</td>\n",
       "    </tr>\n",
       "    <tr>\n",
       "      <th>1</th>\n",
       "      <td>Feb-2010</td>\n",
       "      <td>984655</td>\n",
       "      <td>867884.0</td>\n",
       "      <td>-116771.0</td>\n",
       "    </tr>\n",
       "    <tr>\n",
       "      <th>2</th>\n",
       "      <td>Mar-2010</td>\n",
       "      <td>322013</td>\n",
       "      <td>984655.0</td>\n",
       "      <td>662642.0</td>\n",
       "    </tr>\n",
       "    <tr>\n",
       "      <th>3</th>\n",
       "      <td>Apr-2010</td>\n",
       "      <td>-69417</td>\n",
       "      <td>322013.0</td>\n",
       "      <td>391430.0</td>\n",
       "    </tr>\n",
       "    <tr>\n",
       "      <th>4</th>\n",
       "      <td>May-2010</td>\n",
       "      <td>310503</td>\n",
       "      <td>-69417.0</td>\n",
       "      <td>-379920.0</td>\n",
       "    </tr>\n",
       "  </tbody>\n",
       "</table>\n",
       "</div>"
      ],
      "text/plain": [
       "       Date  Profit/Losses  PrevMonth    PnLChg\n",
       "0  Jan-2010         867884        NaN       NaN\n",
       "1  Feb-2010         984655   867884.0 -116771.0\n",
       "2  Mar-2010         322013   984655.0  662642.0\n",
       "3  Apr-2010         -69417   322013.0  391430.0\n",
       "4  May-2010         310503   -69417.0 -379920.0"
      ]
     },
     "execution_count": 89,
     "metadata": {},
     "output_type": "execute_result"
    }
   ],
   "source": [
    "df.head()"
   ]
  },
  {
   "cell_type": "code",
   "execution_count": null,
   "id": "a0df70eb-c2b8-40ef-a75e-aef003be1048",
   "metadata": {},
   "outputs": [],
   "source": []
  }
 ],
 "metadata": {
  "kernelspec": {
   "display_name": "Python 3 (ipykernel)",
   "language": "python",
   "name": "python3"
  },
  "language_info": {
   "codemirror_mode": {
    "name": "ipython",
    "version": 3
   },
   "file_extension": ".py",
   "mimetype": "text/x-python",
   "name": "python",
   "nbconvert_exporter": "python",
   "pygments_lexer": "ipython3",
   "version": "3.8.8"
  }
 },
 "nbformat": 4,
 "nbformat_minor": 5
}
